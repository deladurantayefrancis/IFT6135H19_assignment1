{
 "cells": [
  {
   "cell_type": "markdown",
   "metadata": {},
   "source": [
    "## Network implementation"
   ]
  },
  {
   "cell_type": "code",
   "execution_count": 1,
   "metadata": {},
   "outputs": [],
   "source": [
    "from datetime import datetime\n",
    "import gzip, pickle\n",
    "import numpy as np\n",
    "\n",
    "f = gzip.open('mnist.pkl.gz')\n",
    "data = pickle.load(f, encoding='latin1')\n",
    "\n",
    "train_data = data[0][0]\n",
    "valid_data, valid_labels = data[1]\n",
    "test_data, test_labels = data[2]\n",
    "\n",
    "# onehot encoding for valid and test labels\n",
    "train_labels = np.zeros((train_data.shape[0], 10))\n",
    "train_labels[np.arange(train_labels.shape[0]), data[0][1]] = 1"
   ]
  },
  {
   "cell_type": "code",
   "execution_count": 34,
   "metadata": {},
   "outputs": [],
   "source": [
    "class NN(object):\n",
    "    \n",
    "    def __init__(self, hidden_dims=(1024,2048), n_hidden=2, mode='train', datapath=None, model_path=None,\n",
    "                batchsize=64, lr=0.0001, delta=.5, epsilon=1e-9, activation=\"ReLU\", initialization=\"normal\"):\n",
    "        \n",
    "        self.dims = (784,) + hidden_dims + (10,)\n",
    "        self.n_hidden = n_hidden\n",
    "        self.mode = mode\n",
    "        self.datapath = datapath\n",
    "        self.model_path = model_path\n",
    "        self.batchsize = batchsize\n",
    "        self.lr = lr\n",
    "        self.delta = delta\n",
    "        self.epsilon = epsilon\n",
    "        \n",
    "        # set activation function for hidden layers\n",
    "        if activation == \"ReLU\":\n",
    "            self.activation = self.ReLU\n",
    "            self.activation_prime = self.ReLU_prime\n",
    "        elif activation == \"tanh\":\n",
    "            self.activation = self.tanh\n",
    "            self.activation_prime = self.tanh_prime\n",
    "        else:\n",
    "            raise ValueError('Invalid activation function specified: ' + str(activation))\n",
    "        \n",
    "        # network parameters\n",
    "        self.W = []\n",
    "        self.b = [np.zeros(self.dims[i]) for i in range(1, len(self.dims))]\n",
    "        \n",
    "        # weight initialization\n",
    "        self.initialize_weights(n_hidden, self.dims, initialization)\n",
    "        \n",
    "        # keep count of completed training epochs\n",
    "        self.epoch_cnt = 1\n",
    "    \n",
    "    ############################\n",
    "    #  Weight initializations  #\n",
    "    ############################\n",
    "    \n",
    "    def initialize_weights(self, n_hidden, dims, option):\n",
    "        \n",
    "        if option == \"zero\":\n",
    "            for i in range(n_hidden + 1):\n",
    "                self.W.append( np.zeros((dims[i+1], dims[i])) )\n",
    "        \n",
    "        elif (option == \"normal\"):\n",
    "            for i in range(n_hidden + 1):\n",
    "                self.W.append( np.random.normal(0, 1, (dims[i+1], dims[i])) )\n",
    "        \n",
    "        elif (option == \"glorot\"):\n",
    "            for i in range(n_hidden + 1):\n",
    "                di = np.sqrt(6/(dims[i]+dims[i+1]))\n",
    "                self.W.append( np.random.uniform(-di, di, (dims[i+1], dims[i])) )\n",
    "        \n",
    "        else:\n",
    "            raise ValueError('Invalid weight initialization specified: ' + str(option))\n",
    "    \n",
    "    #################################################\n",
    "    #  Activation functions  and their derivatives  #\n",
    "    #################################################\n",
    "    \n",
    "    def ReLU(self, input):\n",
    "        return np.maximum(0, input)\n",
    "    \n",
    "    def ReLU_prime(self, input):\n",
    "        return np.where(input > 0, 1, 0)\n",
    "    \n",
    "    def tanh(self, input):\n",
    "        return 2 / (1 + np.exp(-2*input)) - 1\n",
    "    \n",
    "    def tanh_prime(self, input):\n",
    "        return 1 - self.tanh(input)**2\n",
    "    \n",
    "    def softmax(self, input):\n",
    "        rescaled = input - np.amax(input, axis=1)[:,np.newaxis] # for numerical stability\n",
    "        input_exp = np.exp(rescaled)\n",
    "        return input_exp / np.sum(input_exp, axis=1)[:,np.newaxis]\n",
    "    \n",
    "    ########################################\n",
    "    #  Forward, backward, loss and update  #\n",
    "    ########################################\n",
    "    \n",
    "    def forward(self, input):\n",
    "        \n",
    "        # cache stores z = Wx + b of every layer for backprop (z=x for first layer)\n",
    "        cache = [input]\n",
    "        \n",
    "        out = input\n",
    "        for i in range(self.n_hidden):\n",
    "            out = out @ self.W[i].T + self.b[i] # compute z = Wx + b\n",
    "            cache.append(out) # store z for backprop\n",
    "            out = self.activation(out) # compute a = activation(z)\n",
    "        \n",
    "        out = out @ self.W[-1].T + self.b[-1]\n",
    "        cache.append(out)\n",
    "        out = self.softmax(out)\n",
    "        \n",
    "        return out, cache\n",
    "    \n",
    "    def loss(self, prediction, labels):\n",
    "        return -np.sum(labels * np.log(prediction + self.epsilon)) / self.batchsize\n",
    "    \n",
    "    def backward(self, cache, labels):\n",
    "        \n",
    "        # cache contains z = Wx + b of every layer (z=x for first layer)\n",
    "        \n",
    "        grads_a = [0] * (self.n_hidden + 1)\n",
    "        \n",
    "        grads_a[-1] = self.softmax(cache[-1]) - labels\n",
    "        for i in range(self.n_hidden-1, -1, -1):\n",
    "            grads_a[i] = grads_a[i+1] @ self.W[i+1] * self.activation_prime(cache[i+1])\n",
    "        \n",
    "        grads_W = [0] * (self.n_hidden + 1)\n",
    "        grads_b = [0] * (self.n_hidden + 1)\n",
    "        \n",
    "        for i in range(self.n_hidden, -1, -1):\n",
    "            grads_W[i] = grads_a[i].T @ self.activation(cache[i]) / self.batchsize\n",
    "            grads_b[i] = np.mean(grads_a[i], axis=0)\n",
    "            \n",
    "        return (grads_W, grads_b)\n",
    "    \n",
    "    \n",
    "    def update(self, grads, lr):\n",
    "        for i in range(self.n_hidden + 1):\n",
    "            self.W[i] -= lr * grads[0][i]\n",
    "            self.b[i] -= lr * grads[1][i]\n",
    "        \n",
    "    ##############################\n",
    "    #  Train and test functions  #\n",
    "    ##############################\n",
    "    \n",
    "    def train(self, train_data, train_labels, n_epochs):\n",
    "        \n",
    "        for epoch in range(n_epochs):\n",
    "            \n",
    "            print(datetime.now(), \"-\", \"Epoch\", self.epoch_cnt, end=\": \") \n",
    "            \n",
    "            # learning rate for this epoch (doesn't change during first 5 epochs)\n",
    "            t = max(1, self.epoch_cnt-5)\n",
    "            lr = self.lr / t**self.delta\n",
    "            \n",
    "            epoch_loss = 0\n",
    "            \n",
    "            for i in range(train_data.shape[0] // self.batchsize):\n",
    "            \n",
    "                # start and end of mini-batch\n",
    "                start = i * self.batchsize\n",
    "                end = (i+1) * self.batchsize\n",
    "                \n",
    "                # forward pass and epoch loss\n",
    "                predictions, cache = self.forward(train_data[start:end])\n",
    "                epoch_loss += self.loss(predictions, train_labels[start:end])\n",
    "                \n",
    "                # backward pass and update\n",
    "                grads = self.backward(cache, train_labels[start:end])\n",
    "                self.update(grads, lr)\n",
    "            \n",
    "            print(\"loss =\", epoch_loss)\n",
    "            self.epoch_cnt += 1\n",
    "        \n",
    "        # self.finite_diff()\n",
    "        \n",
    "        \n",
    "    def test(self, test_data, test_labels):\n",
    "        \n",
    "        predictions, cache = self.forward(test_data)\n",
    "        successes = (np.argmax(predictions, axis=1) == test_labels)\n",
    "        \n",
    "        print(str(100 * np.sum(successes) / test_data.shape[0]) + \"% success\")\n",
    "    \n",
    "    ############################################\n",
    "    #  Finite difference computation funciton  #\n",
    "    ############################################\n",
    "    \n",
    "    def finite_diff(self, sample, label):\n",
    "        \n",
    "        ### Work in progress ###\n",
    "        \n",
    "        weight_save = self.W[1]\n",
    "        for i, k in np.arange(5), np.arange(5)+1:\n",
    "            N = k * 10^i\n",
    "            epsilon = 1 / N\n",
    "            grad = []\n",
    "            for p in range(10):\n",
    "                \n",
    "                prediction, cache = self.forward(sample)\n",
    "                loss = self.loss(prediction, label)\n",
    "                grads = self.backward(cache, label)"
   ]
  },
  {
   "cell_type": "markdown",
   "metadata": {},
   "source": [
    "## Network parameters"
   ]
  },
  {
   "cell_type": "code",
   "execution_count": 35,
   "metadata": {},
   "outputs": [],
   "source": [
    "hidden_dims = (1024,128)\n",
    "n_hidden = 2\n",
    "mode = 'train'\n",
    "datapath = None\n",
    "model_path = None\n",
    "batchsize = 32\n",
    "lr = .01\n",
    "delta = .5"
   ]
  },
  {
   "cell_type": "markdown",
   "metadata": {},
   "source": [
    "## Trying with glorot initialization"
   ]
  },
  {
   "cell_type": "code",
   "execution_count": 36,
   "metadata": {},
   "outputs": [],
   "source": [
    "np.random.seed(6135)\n",
    "net_glorot = NN(hidden_dims, n_hidden, mode, datapath, model_path,\n",
    "                batchsize, lr, delta, activation=\"tanh\", initialization=\"glorot\")"
   ]
  },
  {
   "cell_type": "code",
   "execution_count": null,
   "metadata": {},
   "outputs": [
    {
     "name": "stdout",
     "output_type": "stream",
     "text": [
      "2019-02-10 19:50:51.741626 - Epoch 1: loss = 800.7946490204653\n",
      "91.11% success\n",
      "2019-02-10 19:51:07.197437 - Epoch 2: loss = 495.6296963268659\n",
      "92.26% success\n",
      "2019-02-10 19:51:22.956436 - Epoch 3: loss = 435.4874310555683\n",
      "92.96% success\n",
      "2019-02-10 19:51:37.357696 - Epoch 4: loss = 394.2957705222374\n",
      "93.73% success\n",
      "2019-02-10 19:51:52.668357 - Epoch 5: loss = 360.54290355879834\n",
      "94.25% success\n",
      "2019-02-10 19:52:06.629418 - Epoch 6: loss = 331.6992377385442\n",
      "94.77% success\n",
      "2019-02-10 19:52:21.507026 - Epoch 7: loss = 308.2589070696539\n",
      "94.98% success\n",
      "2019-02-10 19:52:37.409889 - Epoch 8: "
     ]
    }
   ],
   "source": [
    "for i in range(25):\n",
    "    net_glorot.train(train_data, train_labels, 1)\n",
    "    net_glorot.test(valid_data, valid_labels)"
   ]
  },
  {
   "cell_type": "code",
   "execution_count": null,
   "metadata": {
    "scrolled": true
   },
   "outputs": [],
   "source": [
    "net_glorot.test(train_data, data[0][1])\n",
    "# net_glorot.test(test_data, test_labels)"
   ]
  },
  {
   "cell_type": "markdown",
   "metadata": {},
   "source": [
    "## Trying with normal initialization"
   ]
  },
  {
   "cell_type": "code",
   "execution_count": null,
   "metadata": {},
   "outputs": [],
   "source": [
    "np.random.seed(6135)\n",
    "net_normal = NN(hidden_dims, n_hidden, mode, datapath, model_path,\n",
    "                batchsize, lr, delta, activation=\"tanh\", initialization=\"normal\")"
   ]
  },
  {
   "cell_type": "code",
   "execution_count": null,
   "metadata": {},
   "outputs": [],
   "source": [
    "for i in range(25):\n",
    "    net_normal.train(train_data, train_labels, 1)\n",
    "    net_normal.test(valid_data, valid_labels)"
   ]
  },
  {
   "cell_type": "code",
   "execution_count": null,
   "metadata": {},
   "outputs": [],
   "source": [
    "net_normal.test(train_data, data[0][1])\n",
    "# net_normal.test(test_data, test_labels)"
   ]
  },
  {
   "cell_type": "markdown",
   "metadata": {},
   "source": [
    "## Trying with zero initialization"
   ]
  },
  {
   "cell_type": "code",
   "execution_count": 10,
   "metadata": {},
   "outputs": [],
   "source": [
    "np.random.seed(6135)\n",
    "net_zero = NN(hidden_dims, n_hidden, mode, datapath, model_path,\n",
    "              batchsize, lr, delta, activation=\"tanh\", initialization=\"zero\")"
   ]
  },
  {
   "cell_type": "code",
   "execution_count": 11,
   "metadata": {},
   "outputs": [
    {
     "name": "stdout",
     "output_type": "stream",
     "text": [
      "2019-02-10 19:43:33.383095 - Epoch 1: loss = 3595.1044574358084\n",
      "10.64% success\n",
      "2019-02-10 19:43:50.916807 - Epoch 2: loss = 3594.381050959647\n",
      "10.64% success\n",
      "2019-02-10 19:44:09.891197 - Epoch 3: loss = 3594.3424325950077\n",
      "10.64% success\n",
      "2019-02-10 19:44:23.953379 - Epoch 4: loss = 3594.3388642592395\n",
      "10.64% success\n",
      "2019-02-10 19:44:36.748786 - Epoch 5: "
     ]
    },
    {
     "ename": "KeyboardInterrupt",
     "evalue": "",
     "output_type": "error",
     "traceback": [
      "\u001b[0;31m---------------------------------------------------------------------------\u001b[0m",
      "\u001b[0;31mKeyboardInterrupt\u001b[0m                         Traceback (most recent call last)",
      "\u001b[0;32m<ipython-input-11-fff90bbad579>\u001b[0m in \u001b[0;36m<module>\u001b[0;34m()\u001b[0m\n\u001b[1;32m      1\u001b[0m \u001b[0;32mfor\u001b[0m \u001b[0mi\u001b[0m \u001b[0;32min\u001b[0m \u001b[0mrange\u001b[0m\u001b[0;34m(\u001b[0m\u001b[0;36m25\u001b[0m\u001b[0;34m)\u001b[0m\u001b[0;34m:\u001b[0m\u001b[0;34m\u001b[0m\u001b[0m\n\u001b[0;32m----> 2\u001b[0;31m     \u001b[0mnet_zero\u001b[0m\u001b[0;34m.\u001b[0m\u001b[0mtrain\u001b[0m\u001b[0;34m(\u001b[0m\u001b[0mtrain_data\u001b[0m\u001b[0;34m,\u001b[0m \u001b[0mtrain_labels\u001b[0m\u001b[0;34m,\u001b[0m \u001b[0;36m1\u001b[0m\u001b[0;34m)\u001b[0m\u001b[0;34m\u001b[0m\u001b[0m\n\u001b[0m\u001b[1;32m      3\u001b[0m     \u001b[0mnet_zero\u001b[0m\u001b[0;34m.\u001b[0m\u001b[0mtest\u001b[0m\u001b[0;34m(\u001b[0m\u001b[0mvalid_data\u001b[0m\u001b[0;34m,\u001b[0m \u001b[0mvalid_labels\u001b[0m\u001b[0;34m)\u001b[0m\u001b[0;34m\u001b[0m\u001b[0m\n",
      "\u001b[0;32m<ipython-input-2-0cf7645a032d>\u001b[0m in \u001b[0;36mtrain\u001b[0;34m(self, train_data, train_labels, n_epochs)\u001b[0m\n\u001b[1;32m    148\u001b[0m \u001b[0;34m\u001b[0m\u001b[0m\n\u001b[1;32m    149\u001b[0m                 \u001b[0;31m# backward pass and update\u001b[0m\u001b[0;34m\u001b[0m\u001b[0;34m\u001b[0m\u001b[0m\n\u001b[0;32m--> 150\u001b[0;31m                 \u001b[0mgrads\u001b[0m \u001b[0;34m=\u001b[0m \u001b[0mself\u001b[0m\u001b[0;34m.\u001b[0m\u001b[0mbackward\u001b[0m\u001b[0;34m(\u001b[0m\u001b[0mcache\u001b[0m\u001b[0;34m,\u001b[0m \u001b[0mtrain_labels\u001b[0m\u001b[0;34m[\u001b[0m\u001b[0mstart\u001b[0m\u001b[0;34m:\u001b[0m\u001b[0mend\u001b[0m\u001b[0;34m]\u001b[0m\u001b[0;34m)\u001b[0m\u001b[0;34m\u001b[0m\u001b[0m\n\u001b[0m\u001b[1;32m    151\u001b[0m                 \u001b[0mself\u001b[0m\u001b[0;34m.\u001b[0m\u001b[0mupdate\u001b[0m\u001b[0;34m(\u001b[0m\u001b[0mgrads\u001b[0m\u001b[0;34m,\u001b[0m \u001b[0mlr\u001b[0m\u001b[0;34m)\u001b[0m\u001b[0;34m\u001b[0m\u001b[0m\n\u001b[1;32m    152\u001b[0m \u001b[0;34m\u001b[0m\u001b[0m\n",
      "\u001b[0;32m<ipython-input-2-0cf7645a032d>\u001b[0m in \u001b[0;36mbackward\u001b[0;34m(self, cache, labels)\u001b[0m\n\u001b[1;32m    110\u001b[0m \u001b[0;34m\u001b[0m\u001b[0m\n\u001b[1;32m    111\u001b[0m         \u001b[0;32mfor\u001b[0m \u001b[0mi\u001b[0m \u001b[0;32min\u001b[0m \u001b[0mrange\u001b[0m\u001b[0;34m(\u001b[0m\u001b[0mself\u001b[0m\u001b[0;34m.\u001b[0m\u001b[0mn_hidden\u001b[0m\u001b[0;34m,\u001b[0m \u001b[0;34m-\u001b[0m\u001b[0;36m1\u001b[0m\u001b[0;34m,\u001b[0m \u001b[0;34m-\u001b[0m\u001b[0;36m1\u001b[0m\u001b[0;34m)\u001b[0m\u001b[0;34m:\u001b[0m\u001b[0;34m\u001b[0m\u001b[0m\n\u001b[0;32m--> 112\u001b[0;31m             \u001b[0mgrads_W\u001b[0m\u001b[0;34m[\u001b[0m\u001b[0mi\u001b[0m\u001b[0;34m]\u001b[0m \u001b[0;34m=\u001b[0m \u001b[0mgrads_a\u001b[0m\u001b[0;34m[\u001b[0m\u001b[0mi\u001b[0m\u001b[0;34m]\u001b[0m\u001b[0;34m.\u001b[0m\u001b[0mT\u001b[0m \u001b[0;34m@\u001b[0m \u001b[0mself\u001b[0m\u001b[0;34m.\u001b[0m\u001b[0mactivation\u001b[0m\u001b[0;34m(\u001b[0m\u001b[0mcache\u001b[0m\u001b[0;34m[\u001b[0m\u001b[0mi\u001b[0m\u001b[0;34m]\u001b[0m\u001b[0;34m)\u001b[0m \u001b[0;34m/\u001b[0m \u001b[0mself\u001b[0m\u001b[0;34m.\u001b[0m\u001b[0mbatchsize\u001b[0m\u001b[0;34m\u001b[0m\u001b[0m\n\u001b[0m\u001b[1;32m    113\u001b[0m             \u001b[0mgrads_b\u001b[0m\u001b[0;34m[\u001b[0m\u001b[0mi\u001b[0m\u001b[0;34m]\u001b[0m \u001b[0;34m=\u001b[0m \u001b[0mnp\u001b[0m\u001b[0;34m.\u001b[0m\u001b[0mmean\u001b[0m\u001b[0;34m(\u001b[0m\u001b[0mgrads_a\u001b[0m\u001b[0;34m[\u001b[0m\u001b[0mi\u001b[0m\u001b[0;34m]\u001b[0m\u001b[0;34m,\u001b[0m \u001b[0maxis\u001b[0m\u001b[0;34m=\u001b[0m\u001b[0;36m0\u001b[0m\u001b[0;34m)\u001b[0m\u001b[0;34m\u001b[0m\u001b[0m\n\u001b[1;32m    114\u001b[0m \u001b[0;34m\u001b[0m\u001b[0m\n",
      "\u001b[0;32m<ipython-input-2-0cf7645a032d>\u001b[0m in \u001b[0;36mReLU\u001b[0;34m(self, input)\u001b[0m\n\u001b[1;32m     56\u001b[0m \u001b[0;34m\u001b[0m\u001b[0m\n\u001b[1;32m     57\u001b[0m     \u001b[0;32mdef\u001b[0m \u001b[0mReLU\u001b[0m\u001b[0;34m(\u001b[0m\u001b[0mself\u001b[0m\u001b[0;34m,\u001b[0m \u001b[0minput\u001b[0m\u001b[0;34m)\u001b[0m\u001b[0;34m:\u001b[0m\u001b[0;34m\u001b[0m\u001b[0m\n\u001b[0;32m---> 58\u001b[0;31m         \u001b[0;32mreturn\u001b[0m \u001b[0mnp\u001b[0m\u001b[0;34m.\u001b[0m\u001b[0mmaximum\u001b[0m\u001b[0;34m(\u001b[0m\u001b[0;36m0\u001b[0m\u001b[0;34m,\u001b[0m \u001b[0minput\u001b[0m\u001b[0;34m)\u001b[0m\u001b[0;34m\u001b[0m\u001b[0m\n\u001b[0m\u001b[1;32m     59\u001b[0m \u001b[0;34m\u001b[0m\u001b[0m\n\u001b[1;32m     60\u001b[0m     \u001b[0;32mdef\u001b[0m \u001b[0mReLU_prime\u001b[0m\u001b[0;34m(\u001b[0m\u001b[0mself\u001b[0m\u001b[0;34m,\u001b[0m \u001b[0minput\u001b[0m\u001b[0;34m)\u001b[0m\u001b[0;34m:\u001b[0m\u001b[0;34m\u001b[0m\u001b[0m\n",
      "\u001b[0;31mKeyboardInterrupt\u001b[0m: "
     ]
    }
   ],
   "source": [
    "for i in range(25):\n",
    "    net_zero.train(train_data, train_labels, 1)\n",
    "    net_zero.test(valid_data, valid_labels)"
   ]
  },
  {
   "cell_type": "code",
   "execution_count": 12,
   "metadata": {},
   "outputs": [
    {
     "name": "stdout",
     "output_type": "stream",
     "text": [
      "11.356% success\n"
     ]
    }
   ],
   "source": [
    "net_zero.test(train_data, data[0][1])\n",
    "# net_zero.test(test_data, test_labels)"
   ]
  },
  {
   "cell_type": "code",
   "execution_count": null,
   "metadata": {},
   "outputs": [],
   "source": []
  },
  {
   "cell_type": "code",
   "execution_count": 33,
   "metadata": {},
   "outputs": [
    {
     "name": "stdout",
     "output_type": "stream",
     "text": [
      "[-1.          1.          0.99505475]\n"
     ]
    }
   ],
   "source": [
    "print(2 / (1 + np.exp(-2*np.asarray([-1000, 1000, 3]))) - 1)"
   ]
  },
  {
   "cell_type": "code",
   "execution_count": null,
   "metadata": {},
   "outputs": [],
   "source": []
  }
 ],
 "metadata": {
  "kernelspec": {
   "display_name": "Python 3",
   "language": "python",
   "name": "python3"
  },
  "language_info": {
   "codemirror_mode": {
    "name": "ipython",
    "version": 3
   },
   "file_extension": ".py",
   "mimetype": "text/x-python",
   "name": "python",
   "nbconvert_exporter": "python",
   "pygments_lexer": "ipython3",
   "version": "3.7.0"
  }
 },
 "nbformat": 4,
 "nbformat_minor": 2
}
